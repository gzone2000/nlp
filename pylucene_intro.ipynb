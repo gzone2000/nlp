{
  "nbformat": 4,
  "nbformat_minor": 0,
  "metadata": {
    "kernelspec": {
      "display_name": "Python 3",
      "language": "python",
      "name": "python3"
    },
    "language_info": {
      "codemirror_mode": {
        "name": "ipython",
        "version": 3
      },
      "file_extension": ".py",
      "mimetype": "text/x-python",
      "name": "python",
      "nbconvert_exporter": "python",
      "pygments_lexer": "ipython3",
      "version": "3.7.6"
    },
    "colab": {
      "name": "pylucene_intro.ipynb",
      "provenance": [],
      "include_colab_link": true
    }
  },
  "cells": [
    {
      "cell_type": "markdown",
      "metadata": {
        "id": "view-in-github",
        "colab_type": "text"
      },
      "source": [
        "<a href=\"https://colab.research.google.com/github/kgpark88/nlp/blob/main/pylucene_intro.ipynb\" target=\"_parent\"><img src=\"https://colab.research.google.com/assets/colab-badge.svg\" alt=\"Open In Colab\"/></a>"
      ]
    },
    {
      "cell_type": "markdown",
      "metadata": {
        "id": "i7aAxImOe7zX"
      },
      "source": [
        "참조사이트 : https://notebook.community/paulovn/ml-vm-notebook/vmfiles/IPNB/Examples/g%20Misc/20%20Pylucene"
      ]
    },
    {
      "cell_type": "markdown",
      "metadata": {
        "id": "CxoevjGIe7zY"
      },
      "source": [
        "# Initialization\n",
        "Importing lucene will bring into the Python context all the lucene namespace; from then all lucene modules can be imported (included the support Java modules)"
      ]
    },
    {
      "cell_type": "code",
      "metadata": {
        "id": "hksZY9NOe7zZ"
      },
      "source": [
        "import lucene"
      ],
      "execution_count": null,
      "outputs": []
    },
    {
      "cell_type": "code",
      "metadata": {
        "id": "5-wN1rQJe7zc",
        "outputId": "28541eaf-fe62-43ca-d7a3-b69de93430d7"
      },
      "source": [
        "print(lucene.VERSION)"
      ],
      "execution_count": null,
      "outputs": [
        {
          "output_type": "stream",
          "text": [
            "8.6.1\n"
          ],
          "name": "stdout"
        }
      ]
    },
    {
      "cell_type": "code",
      "metadata": {
        "id": "3FdL4iXQe7ze",
        "outputId": "12c525af-3d4e-4806-f4c5-3bb2b9d6034d"
      },
      "source": [
        "# We can check all the Lucene packages included in this distribution of Pylucene\n",
        "for p in sorted(lucene.CLASSPATH.split(':')):\n",
        "    print(p)"
      ],
      "execution_count": null,
      "outputs": [
        {
          "output_type": "stream",
          "text": [
            "\\python37\\lib\\site-packages\\lucene-8.6.1-py3.7-win-amd64.egg\\lucene\\antlr4-runtime-4.5.1-1.jar;c\n",
            "\\python37\\lib\\site-packages\\lucene-8.6.1-py3.7-win-amd64.egg\\lucene\\asm-7.2.jar;c\n",
            "\\python37\\lib\\site-packages\\lucene-8.6.1-py3.7-win-amd64.egg\\lucene\\asm-commons-7.2.jar;c\n",
            "\\python37\\lib\\site-packages\\lucene-8.6.1-py3.7-win-amd64.egg\\lucene\\extensions.jar;c\n",
            "\\python37\\lib\\site-packages\\lucene-8.6.1-py3.7-win-amd64.egg\\lucene\\hppc-0.8.1.jar\n",
            "\\python37\\lib\\site-packages\\lucene-8.6.1-py3.7-win-amd64.egg\\lucene\\lucene-analyzers-common-8.6.1.jar;c\n",
            "\\python37\\lib\\site-packages\\lucene-8.6.1-py3.7-win-amd64.egg\\lucene\\lucene-analyzers-kuromoji-8.6.1.jar;c\n",
            "\\python37\\lib\\site-packages\\lucene-8.6.1-py3.7-win-amd64.egg\\lucene\\lucene-analyzers-nori-8.6.1.jar;c\n",
            "\\python37\\lib\\site-packages\\lucene-8.6.1-py3.7-win-amd64.egg\\lucene\\lucene-analyzers-stempel-8.6.1.jar;c\n",
            "\\python37\\lib\\site-packages\\lucene-8.6.1-py3.7-win-amd64.egg\\lucene\\lucene-backward-codecs-8.6.1.jar;c\n",
            "\\python37\\lib\\site-packages\\lucene-8.6.1-py3.7-win-amd64.egg\\lucene\\lucene-classification-8.6.1.jar;c\n",
            "\\python37\\lib\\site-packages\\lucene-8.6.1-py3.7-win-amd64.egg\\lucene\\lucene-codecs-8.6.1.jar;c\n",
            "\\python37\\lib\\site-packages\\lucene-8.6.1-py3.7-win-amd64.egg\\lucene\\lucene-core-8.6.1.jar;c\n",
            "\\python37\\lib\\site-packages\\lucene-8.6.1-py3.7-win-amd64.egg\\lucene\\lucene-expressions-8.6.1.jar;c\n",
            "\\python37\\lib\\site-packages\\lucene-8.6.1-py3.7-win-amd64.egg\\lucene\\lucene-facet-8.6.1.jar;c\n",
            "\\python37\\lib\\site-packages\\lucene-8.6.1-py3.7-win-amd64.egg\\lucene\\lucene-grouping-8.6.1.jar;c\n",
            "\\python37\\lib\\site-packages\\lucene-8.6.1-py3.7-win-amd64.egg\\lucene\\lucene-highlighter-8.6.1.jar;c\n",
            "\\python37\\lib\\site-packages\\lucene-8.6.1-py3.7-win-amd64.egg\\lucene\\lucene-join-8.6.1.jar;c\n",
            "\\python37\\lib\\site-packages\\lucene-8.6.1-py3.7-win-amd64.egg\\lucene\\lucene-memory-8.6.1.jar;c\n",
            "\\python37\\lib\\site-packages\\lucene-8.6.1-py3.7-win-amd64.egg\\lucene\\lucene-misc-8.6.1.jar;c\n",
            "\\python37\\lib\\site-packages\\lucene-8.6.1-py3.7-win-amd64.egg\\lucene\\lucene-queries-8.6.1.jar;c\n",
            "\\python37\\lib\\site-packages\\lucene-8.6.1-py3.7-win-amd64.egg\\lucene\\lucene-queryparser-8.6.1.jar;c\n",
            "\\python37\\lib\\site-packages\\lucene-8.6.1-py3.7-win-amd64.egg\\lucene\\lucene-sandbox-8.6.1.jar;c\n",
            "\\python37\\lib\\site-packages\\lucene-8.6.1-py3.7-win-amd64.egg\\lucene\\lucene-spatial3d-8.6.1.jar;c\n",
            "\\python37\\lib\\site-packages\\lucene-8.6.1-py3.7-win-amd64.egg\\lucene\\lucene-suggest-8.6.1.jar;c\n",
            "c\n"
          ],
          "name": "stdout"
        }
      ]
    },
    {
      "cell_type": "markdown",
      "metadata": {
        "id": "G3Qc2Wy6e7zh"
      },
      "source": [
        "### The first operation is always to initialize the lucene backend.  This only needs to be done once for each running Python process"
      ]
    },
    {
      "cell_type": "code",
      "metadata": {
        "id": "aa3Li0Aee7zh"
      },
      "source": [
        "if not lucene.getVMEnv():\n",
        "    lucene.initVM(vmargs=['-Djava.awt.headless=true'])"
      ],
      "execution_count": null,
      "outputs": []
    },
    {
      "cell_type": "markdown",
      "metadata": {
        "id": "3umPTxLDe7zk"
      },
      "source": [
        "# Tests\n",
        "Let's test a few Lucene components"
      ]
    },
    {
      "cell_type": "code",
      "metadata": {
        "id": "j-YsuOpee7zk"
      },
      "source": [
        "test_strings = (\n",
        "    \"PyLucene is a Python extension for accessing Java Lucene.\",\n",
        "    \"Its goal is to allow you to use Lucene's text indexing and searching capabilities from Python.\")"
      ],
      "execution_count": null,
      "outputs": []
    },
    {
      "cell_type": "code",
      "metadata": {
        "id": "FHF1PxaNe7zm"
      },
      "source": [
        "from org.apache.lucene.analysis.tokenattributes import CharTermAttribute\n",
        "\n",
        "def fetch_terms(obj):\n",
        "    '''fetch all terms from a token list object, as strings'''\n",
        "    termAtt = obj.getAttribute(CharTermAttribute.class_)\n",
        "    try:\n",
        "        obj.clearAttributes()\n",
        "        obj.reset()\n",
        "        while obj.incrementToken():\n",
        "            yield termAtt.toString() \n",
        "    finally:\n",
        "        obj.end()\n",
        "        obj.close()"
      ],
      "execution_count": null,
      "outputs": []
    },
    {
      "cell_type": "markdown",
      "metadata": {
        "id": "dAjumNS4e7zq"
      },
      "source": [
        "# Stemming"
      ]
    },
    {
      "cell_type": "code",
      "metadata": {
        "id": "1Gp83WNDe7zq",
        "outputId": "4a2f0aa7-afd8-4e21-d42a-122e1510dcec"
      },
      "source": [
        "from lucene import JArray_char, JArray\n",
        "\n",
        "from org.tartarus.snowball.ext import SpanishStemmer, EnglishStemmer\n",
        "\n",
        "def stem(stemmer, word):\n",
        "    # Add the word\n",
        "    stemmer.setCurrent(JArray_char(word), len(word))\n",
        "    # Fire stemming\n",
        "    stemmer.stem()\n",
        "    # Fetch the output (buffer & size)\n",
        "    result = stemmer.getCurrentBuffer()\n",
        "    l = stemmer.getCurrentBufferLength()\n",
        "    return ''.join(result)[0:l]    \n",
        "\n",
        "st = SpanishStemmer()\n",
        "for w in ('haciendo', 'lunes', 'vino', 'lápiz'):\n",
        "    print( w, '->', stem(st, w))\n",
        "\n",
        "st = EnglishStemmer()\n",
        "for w in ('making', 'Monday', 'came', 'pencil'):\n",
        "    print( w, '->', stem(st, w))"
      ],
      "execution_count": null,
      "outputs": [
        {
          "output_type": "stream",
          "text": [
            "haciendo -> hac\n",
            "lunes -> lun\n",
            "vino -> vin\n",
            "lápiz -> lapiz\n",
            "making -> make\n",
            "Monday -> Monday\n",
            "came -> came\n",
            "pencil -> pencil\n"
          ],
          "name": "stdout"
        }
      ]
    },
    {
      "cell_type": "code",
      "metadata": {
        "id": "E8wbxOGze7zs"
      },
      "source": [
        "from java.io import StringReader\n",
        "\n",
        "def tokenize( tk, data ):\n",
        "    '''Send a string to a tokenizer and get back the token list'''\n",
        "    tk.setReader( StringReader(data) )\n",
        "    return list(fetch_terms(tk))"
      ],
      "execution_count": null,
      "outputs": []
    },
    {
      "cell_type": "code",
      "metadata": {
        "id": "6-2GQqyae7zu"
      },
      "source": [
        "from org.apache.lucene.analysis.standard import StandardTokenizer\n",
        "from org.apache.lucene.analysis.core import LetterTokenizer\n",
        "from org.apache.lucene.analysis.ngram import NGramTokenizer"
      ],
      "execution_count": null,
      "outputs": []
    },
    {
      "cell_type": "markdown",
      "metadata": {
        "id": "-3hpzyO7e7zw"
      },
      "source": [
        "# Tokenizer\n",
        "- StandardTokenizer : A grammar-based tokenizer constructed with JFlex. This class implements the Word Break rules from the Unicode Text Segmentation algorithm, as specified in Unicode Standard Annex #29.  \n",
        "- LetterTokenizer : A tokenizer that divides text at non-letters. That's to say, it defines tokens as maximal strings of adjacent letters, as defined by java.lang.Character.isLetter() predicate.  \n",
        "- NGramTokenizer : Tokenizes the input into n-grams of the given size(s)."
      ]
    },
    {
      "cell_type": "code",
      "metadata": {
        "id": "BWSROrpHe7zw",
        "outputId": "a6ceb52c-22e1-49fd-ae98-b9c140a6d7e0"
      },
      "source": [
        "tokenizers = (StandardTokenizer(), LetterTokenizer(), NGramTokenizer(4, 4))\n",
        "\n",
        "for n, t in enumerate(tokenizers):\n",
        "    print( \"\\n{} -----------\".format(n+1), str(t) )\n",
        "    for s in test_strings:\n",
        "        print( \"\\n\", tokenize(t,s) )"
      ],
      "execution_count": null,
      "outputs": [
        {
          "output_type": "stream",
          "text": [
            "\n",
            "1 ----------- StandardTokenizer@31ff43be term=,bytes=[],startOffset=0,endOffset=0,positionIncrement=1,positionLength=1,type=word,termFrequency=1\n",
            "\n",
            " ['PyLucene', 'is', 'a', 'Python', 'extension', 'for', 'accessing', 'Java', 'Lucene']\n",
            "\n",
            " ['Its', 'goal', 'is', 'to', 'allow', 'you', 'to', 'use', \"Lucene's\", 'text', 'indexing', 'and', 'searching', 'capabilities', 'from', 'Python']\n",
            "\n",
            "2 ----------- LetterTokenizer@7b205dbd term=,bytes=[],startOffset=0,endOffset=0,positionIncrement=1,positionLength=1,type=word,termFrequency=1\n",
            "\n",
            " ['PyLucene', 'is', 'a', 'Python', 'extension', 'for', 'accessing', 'Java', 'Lucene']\n",
            "\n",
            " ['Its', 'goal', 'is', 'to', 'allow', 'you', 'to', 'use', 'Lucene', 's', 'text', 'indexing', 'and', 'searching', 'capabilities', 'from', 'Python']\n",
            "\n",
            "3 ----------- NGramTokenizer@106cc338 term=,bytes=[],startOffset=0,endOffset=0,positionIncrement=1,positionLength=1,type=word,termFrequency=1\n",
            "\n",
            " ['PyLu', 'yLuc', 'Luce', 'ucen', 'cene', 'ene ', 'ne i', 'e is', ' is ', 'is a', 's a ', ' a P', 'a Py', ' Pyt', 'Pyth', 'ytho', 'thon', 'hon ', 'on e', 'n ex', ' ext', 'exte', 'xten', 'tens', 'ensi', 'nsio', 'sion', 'ion ', 'on f', 'n fo', ' for', 'for ', 'or a', 'r ac', ' acc', 'acce', 'cces', 'cess', 'essi', 'ssin', 'sing', 'ing ', 'ng J', 'g Ja', ' Jav', 'Java', 'ava ', 'va L', 'a Lu', ' Luc', 'Luce', 'ucen', 'cene', 'ene.']\n",
            "\n",
            " ['Its ', 'ts g', 's go', ' goa', 'goal', 'oal ', 'al i', 'l is', ' is ', 'is t', 's to', ' to ', 'to a', 'o al', ' all', 'allo', 'llow', 'low ', 'ow y', 'w yo', ' you', 'you ', 'ou t', 'u to', ' to ', 'to u', 'o us', ' use', 'use ', 'se L', 'e Lu', ' Luc', 'Luce', 'ucen', 'cene', \"ene'\", \"ne's\", \"e's \", \"'s t\", 's te', ' tex', 'text', 'ext ', 'xt i', 't in', ' ind', 'inde', 'ndex', 'dexi', 'exin', 'xing', 'ing ', 'ng a', 'g an', ' and', 'and ', 'nd s', 'd se', ' sea', 'sear', 'earc', 'arch', 'rchi', 'chin', 'hing', 'ing ', 'ng c', 'g ca', ' cap', 'capa', 'apab', 'pabi', 'abil', 'bili', 'ilit', 'liti', 'itie', 'ties', 'ies ', 'es f', 's fr', ' fro', 'from', 'rom ', 'om P', 'm Py', ' Pyt', 'Pyth', 'ytho', 'thon', 'hon.']\n"
          ],
          "name": "stdout"
        }
      ]
    },
    {
      "cell_type": "markdown",
      "metadata": {
        "id": "O4zGkBVle7zy"
      },
      "source": [
        "# Analyzer\n",
        "- KeywordAnalyzer: \"Tokenizes\" the entire stream as a single token. This is useful for data like zip codes, ids, and some product names.  \n",
        "- SimpleAnalyzer: An Analyzer that filters LetterTokenizer with LowerCaseFilter \n",
        "- SpanishAnalyzer: built from an StandardTokenizer filtered with StandardFilter, LowerCaseFilter, StopFilter, SetKeywordMarkerFilter if a stem exclusion set is provided and SpanishLightStemFilter.  \n",
        "- ShingleAnalyzerWrapper: A ShingleAnalyzerWrapper wraps a ShingleFilter around another Analyzer. A shingle is another name for a token based n-gram.  "
      ]
    },
    {
      "cell_type": "code",
      "metadata": {
        "id": "k6JnRRbQe7zz"
      },
      "source": [
        "from java.io import StringReader\n",
        "    \n",
        "def analyze(anal, data):\n",
        "    '''Send a string to an analizer and get back the analyzed term list'''\n",
        "    ts = anal.tokenStream( \"dummy\", StringReader(data) )\n",
        "    return list(fetch_terms(ts))"
      ],
      "execution_count": null,
      "outputs": []
    },
    {
      "cell_type": "code",
      "metadata": {
        "id": "9-7T-yI7e7z1",
        "outputId": "66d62638-5d2b-4a60-f15d-31da226ef6a5"
      },
      "source": [
        "from org.apache.lucene.analysis.core import KeywordAnalyzer, SimpleAnalyzer\n",
        "from org.apache.lucene.analysis.standard import StandardAnalyzer\n",
        "from org.apache.lucene.analysis.es import SpanishAnalyzer\n",
        "from org.apache.lucene.analysis.shingle import ShingleAnalyzerWrapper\n",
        "\n",
        "analyzers = ( KeywordAnalyzer(),\n",
        "              SimpleAnalyzer(),\n",
        "              SpanishAnalyzer(),\n",
        "              ShingleAnalyzerWrapper( SimpleAnalyzer(), 2, 3 ),\n",
        "              ShingleAnalyzerWrapper( SpanishAnalyzer(), 2, 3 ),\n",
        "            )\n",
        "\n",
        "for n, a in enumerate(analyzers):\n",
        "    print( \"\\n {} ----------- {}\".format(n+1, a) )\n",
        "    for s in test_strings:\n",
        "        print( \"\\n\", analyze(a,s) )"
      ],
      "execution_count": null,
      "outputs": [
        {
          "output_type": "stream",
          "text": [
            "\n",
            " 1 ----------- org.apache.lucene.analysis.core.KeywordAnalyzer@2631f68c\n",
            "\n",
            " ['PyLucene is a Python extension for accessing Java Lucene.']\n",
            "\n",
            " [\"Its goal is to allow you to use Lucene's text indexing and searching capabilities from Python.\"]\n",
            "\n",
            " 2 ----------- org.apache.lucene.analysis.core.SimpleAnalyzer@19835e64\n",
            "\n",
            " ['pylucene', 'is', 'a', 'python', 'extension', 'for', 'accessing', 'java', 'lucene']\n",
            "\n",
            " ['its', 'goal', 'is', 'to', 'allow', 'you', 'to', 'use', 'lucene', 's', 'text', 'indexing', 'and', 'searching', 'capabilities', 'from', 'python']\n",
            "\n",
            " 3 ----------- org.apache.lucene.analysis.es.SpanishAnalyzer@a87f8ec\n",
            "\n",
            " ['pylucen', 'is', 'python', 'extension', 'for', 'accessing', 'java', 'lucen']\n",
            "\n",
            " ['its', 'goal', 'is', 'to', 'allow', 'you', 'to', 'use', \"lucene's\", 'text', 'indexing', 'and', 'searching', 'capabiliti', 'from', 'python']\n",
            "\n",
            " 4 ----------- org.apache.lucene.analysis.shingle.ShingleAnalyzerWrapper@22356acd\n",
            "\n",
            " ['pylucene', 'pylucene is', 'pylucene is a', 'is', 'is a', 'is a python', 'a', 'a python', 'a python extension', 'python', 'python extension', 'python extension for', 'extension', 'extension for', 'extension for accessing', 'for', 'for accessing', 'for accessing java', 'accessing', 'accessing java', 'accessing java lucene', 'java', 'java lucene', 'lucene']\n",
            "\n",
            " ['its', 'its goal', 'its goal is', 'goal', 'goal is', 'goal is to', 'is', 'is to', 'is to allow', 'to', 'to allow', 'to allow you', 'allow', 'allow you', 'allow you to', 'you', 'you to', 'you to use', 'to', 'to use', 'to use lucene', 'use', 'use lucene', 'use lucene s', 'lucene', 'lucene s', 'lucene s text', 's', 's text', 's text indexing', 'text', 'text indexing', 'text indexing and', 'indexing', 'indexing and', 'indexing and searching', 'and', 'and searching', 'and searching capabilities', 'searching', 'searching capabilities', 'searching capabilities from', 'capabilities', 'capabilities from', 'capabilities from python', 'from', 'from python', 'python']\n",
            "\n",
            " 5 ----------- org.apache.lucene.analysis.shingle.ShingleAnalyzerWrapper@34f22f9d\n",
            "\n",
            " ['pylucen', 'pylucen is', 'pylucen is _', 'is', 'is _', 'is _ python', '_ python', '_ python extension', 'python', 'python extension', 'python extension for', 'extension', 'extension for', 'extension for accessing', 'for', 'for accessing', 'for accessing java', 'accessing', 'accessing java', 'accessing java lucen', 'java', 'java lucen', 'lucen']\n",
            "\n",
            " ['its', 'its goal', 'its goal is', 'goal', 'goal is', 'goal is to', 'is', 'is to', 'is to allow', 'to', 'to allow', 'to allow you', 'allow', 'allow you', 'allow you to', 'you', 'you to', 'you to use', 'to', 'to use', \"to use lucene's\", 'use', \"use lucene's\", \"use lucene's text\", \"lucene's\", \"lucene's text\", \"lucene's text indexing\", 'text', 'text indexing', 'text indexing and', 'indexing', 'indexing and', 'indexing and searching', 'and', 'and searching', 'and searching capabiliti', 'searching', 'searching capabiliti', 'searching capabiliti from', 'capabiliti', 'capabiliti from', 'capabiliti from python', 'from', 'from python', 'python']\n"
          ],
          "name": "stdout"
        }
      ]
    },
    {
      "cell_type": "markdown",
      "metadata": {
        "id": "tlAvDUJoe7z3"
      },
      "source": [
        "### 참조: https://pythonhosted.org/lupyne/index.html"
      ]
    },
    {
      "cell_type": "markdown",
      "metadata": {
        "id": "JfmxFtbje7z3"
      },
      "source": [
        "# Lupyne is:\n",
        "- high-level Pythonic search engine library, built on PyLucene  \n",
        "- RESTful JSON search server, built on CherryPy  \n",
        "- simple Python client for interacting with the server  "
      ]
    },
    {
      "cell_type": "code",
      "metadata": {
        "id": "VIfpq8cJe7z4"
      },
      "source": [
        "from lupyne import engine   # don't forget to call lucene.initVM\n",
        "\n",
        "indexer = engine.Indexer()                             # create an in-memory index (no filename supplied)\n",
        "indexer.set('name', stored=True)                     # create stored 'name' field\n",
        "indexer.set('text', engine.Field.Text)                  # create indexed 'text' field (the default)\n",
        "indexer.add(name='sample', text='hello world')  # add a document to the index\n",
        "indexer.commit()                                         # commit changes; document is now searchable\n"
      ],
      "execution_count": null,
      "outputs": []
    },
    {
      "cell_type": "code",
      "metadata": {
        "id": "lcAbsW0fe7z6"
      },
      "source": [
        "hits = indexer.search('text:hello')             # run search and return sequence of documents "
      ],
      "execution_count": null,
      "outputs": []
    },
    {
      "cell_type": "code",
      "metadata": {
        "id": "VZ_2wR_Qe7z8",
        "outputId": "7a3cacd9-4e1b-43d0-ffdf-ccdf62e67e39"
      },
      "source": [
        "len(hits)"
      ],
      "execution_count": null,
      "outputs": [
        {
          "output_type": "execute_result",
          "data": {
            "text/plain": [
              "1"
            ]
          },
          "metadata": {
            "tags": []
          },
          "execution_count": 24
        }
      ]
    },
    {
      "cell_type": "code",
      "metadata": {
        "id": "v25QRQKle7z-",
        "outputId": "515cb940-e703-4037-bf97-6ba0cf8fdba8"
      },
      "source": [
        "hits.count "
      ],
      "execution_count": null,
      "outputs": [
        {
          "output_type": "execute_result",
          "data": {
            "text/plain": [
              "1"
            ]
          },
          "metadata": {
            "tags": []
          },
          "execution_count": 25
        }
      ]
    },
    {
      "cell_type": "markdown",
      "metadata": {
        "id": "YTMXp8uUe7z_"
      },
      "source": [
        "# indexers\n",
        "Basic indexing and searching example adapted from http://lucene.apache.org/core/4_10_1/core/index.html"
      ]
    },
    {
      "cell_type": "code",
      "metadata": {
        "id": "7stBe-ime70A",
        "outputId": "8b95dbb3-7e16-439d-a1d4-64988078d4aa"
      },
      "source": [
        "import lucene\n",
        "from org.apache.lucene import analysis, document, index, queryparser, search, store, util\n",
        "from lupyne import engine\n",
        "lucene.initVM()"
      ],
      "execution_count": null,
      "outputs": [
        {
          "output_type": "execute_result",
          "data": {
            "text/plain": [
              "<jcc.JCCEnv at 0x2697d415ed0>"
            ]
          },
          "metadata": {
            "tags": []
          },
          "execution_count": 48
        }
      ]
    },
    {
      "cell_type": "code",
      "metadata": {
        "id": "R_qMQu7xe70C"
      },
      "source": [
        "# # # lucene # # #\n",
        "\n",
        "analyzer = analysis.standard.StandardAnalyzer()"
      ],
      "execution_count": null,
      "outputs": []
    },
    {
      "cell_type": "code",
      "metadata": {
        "id": "9nBoLDGHe70E"
      },
      "source": [
        "# Store the index in memory:\n",
        "directory = store.RAMDirectory()\n",
        "\n",
        "# To store an index on disk, use this instead:\n",
        "# Directory directory = FSDirectory.open(File(\"/tmp/testindex\"))\n",
        "config = index.IndexWriterConfig( analyzer)\n",
        "iwriter = index.IndexWriter(directory, config)\n",
        "doc = document.Document()\n",
        "text = \"This is the text to be indexed.\"\n",
        "doc.add(document.Field(\"fieldname\", text, document.TextField.TYPE_STORED))\n",
        "iwriter.addDocument(doc)\n",
        "iwriter.close()"
      ],
      "execution_count": null,
      "outputs": []
    },
    {
      "cell_type": "code",
      "metadata": {
        "id": "-dr7HJyue70F"
      },
      "source": [
        "# Now search the index:\n",
        "# ireader = index.IndexReader.open(directory)\n",
        "ireader = index.DirectoryReader.open(directory)\n",
        "isearcher = search.IndexSearcher(ireader)"
      ],
      "execution_count": null,
      "outputs": []
    },
    {
      "cell_type": "code",
      "metadata": {
        "id": "cI7FuXske70H",
        "outputId": "acce03d8-a8ba-4baa-b995-b1cebd533ddc"
      },
      "source": [
        "# Parse a simple query that searches for \"text\":\n",
        "# parser = queryparser.classic.QueryParser(util.Version.LUCENE_CURRENT, \"fieldname\", analyzer)\n",
        "parser = queryparser.classic.QueryParser(\"fieldname\", analyzer)\n",
        "query = parser.parse(\"text\")\n",
        "hits = isearcher.search(query, 1000).scoreDocs\n",
        "assert len(hits) == 1\n",
        "# Iterate through the results:\n",
        "for hit in hits:\n",
        "    hitDoc = isearcher.doc(hit.doc)\n",
        "    print(hitDoc['fieldname'] )\n",
        "    assert hitDoc['fieldname'] == text\n",
        "ireader.close()\n",
        "directory.close()"
      ],
      "execution_count": null,
      "outputs": [
        {
          "output_type": "stream",
          "text": [
            "This is the text to be indexed.\n"
          ],
          "name": "stdout"
        }
      ]
    },
    {
      "cell_type": "markdown",
      "metadata": {
        "id": "Mu9wOR2Ke70J"
      },
      "source": [
        "# queries\n",
        "- Convenient Query creation.  \n",
        "- Operator overloading is used for combining boolean clauses."
      ]
    },
    {
      "cell_type": "code",
      "metadata": {
        "id": "2yTaabdle70J",
        "outputId": "f9170cc5-14fd-4605-d2da-5c44f49b07bf"
      },
      "source": [
        "import lucene\n",
        "from org.apache.lucene import index, search\n",
        "from org.apache.lucene.search import spans\n",
        "from lupyne.engine import Query\n",
        "lucene.initVM()"
      ],
      "execution_count": null,
      "outputs": [
        {
          "output_type": "execute_result",
          "data": {
            "text/plain": [
              "<jcc.JCCEnv at 0x2697cc05fb0>"
            ]
          },
          "metadata": {
            "tags": []
          },
          "execution_count": 56
        }
      ]
    },
    {
      "cell_type": "code",
      "metadata": {
        "id": "6y-HD0jOe70M",
        "outputId": "7d267270-5b7d-46d1-a73f-2af3ba202c75"
      },
      "source": [
        "search.PhraseQuery()"
      ],
      "execution_count": null,
      "outputs": [
        {
          "output_type": "error",
          "ename": "InvalidArgsError",
          "evalue": "(<class 'org.apache.lucene.search.PhraseQuery'>, '__init__', (None,))",
          "traceback": [
            "\u001b[1;31m---------------------------------------------------------------------------\u001b[0m",
            "\u001b[1;31mInvalidArgsError\u001b[0m                          Traceback (most recent call last)",
            "\u001b[1;32m<ipython-input-59-d19049bf6cb1>\u001b[0m in \u001b[0;36m<module>\u001b[1;34m\u001b[0m\n\u001b[1;32m----> 1\u001b[1;33m \u001b[0msearch\u001b[0m\u001b[1;33m.\u001b[0m\u001b[0mPhraseQuery\u001b[0m\u001b[1;33m(\u001b[0m\u001b[1;32mNone\u001b[0m\u001b[1;33m)\u001b[0m\u001b[1;33m\u001b[0m\u001b[1;33m\u001b[0m\u001b[0m\n\u001b[0m",
            "\u001b[1;31mInvalidArgsError\u001b[0m: (<class 'org.apache.lucene.search.PhraseQuery'>, '__init__', (None,))"
          ]
        }
      ]
    },
    {
      "cell_type": "code",
      "metadata": {
        "id": "dBztT5_Be70P",
        "outputId": "f8e97f1b-7070-429a-efed-7ec14ba860d6"
      },
      "source": [
        "# # # lucene # # #\n",
        "\n",
        "q1 = search.TermQuery(index.Term('text', 'lucene'))\n",
        "q2 = search.PhraseQuery()\n",
        "q2.add(index.Term('text', 'search'))\n",
        "q2.add(index.Term('text', 'engine'))\n",
        "q3 = search.BooleanQuery()\n",
        "q3.add(q1, search.BooleanClause.Occur.MUST)\n",
        "q3.add(q2, search.BooleanClause.Occur.MUST)\n",
        "assert str(q3) == '+text:lucene +text:\"search engine\"'\n",
        "\n",
        "q1 = spans.SpanTermQuery(index.Term('text', 'hello'))\n",
        "q2 = spans.SpanTermQuery(index.Term('text', 'world'))\n",
        "q3 = spans.SpanPositionRangeQuery(q1, 0, 10)\n",
        "q4 = spans.SpanNearQuery([q1, q2], 0, True)\n",
        "q5 = spans.SpanNotQuery(q3, q4)\n",
        "assert str(q5) == 'spanNot(spanPosRange(text:hello, 0, 10), spanNear([text:hello, text:world], 0, true), 0, 0)'\n"
      ],
      "execution_count": null,
      "outputs": [
        {
          "output_type": "error",
          "ename": "InvalidArgsError",
          "evalue": "(<class 'org.apache.lucene.search.PhraseQuery'>, '__init__', ())",
          "traceback": [
            "\u001b[1;31m---------------------------------------------------------------------------\u001b[0m",
            "\u001b[1;31mInvalidArgsError\u001b[0m                          Traceback (most recent call last)",
            "\u001b[1;32m<ipython-input-57-eae8ef76f51a>\u001b[0m in \u001b[0;36m<module>\u001b[1;34m\u001b[0m\n\u001b[0;32m      2\u001b[0m \u001b[1;33m\u001b[0m\u001b[0m\n\u001b[0;32m      3\u001b[0m \u001b[0mq1\u001b[0m \u001b[1;33m=\u001b[0m \u001b[0msearch\u001b[0m\u001b[1;33m.\u001b[0m\u001b[0mTermQuery\u001b[0m\u001b[1;33m(\u001b[0m\u001b[0mindex\u001b[0m\u001b[1;33m.\u001b[0m\u001b[0mTerm\u001b[0m\u001b[1;33m(\u001b[0m\u001b[1;34m'text'\u001b[0m\u001b[1;33m,\u001b[0m \u001b[1;34m'lucene'\u001b[0m\u001b[1;33m)\u001b[0m\u001b[1;33m)\u001b[0m\u001b[1;33m\u001b[0m\u001b[1;33m\u001b[0m\u001b[0m\n\u001b[1;32m----> 4\u001b[1;33m \u001b[0mq2\u001b[0m \u001b[1;33m=\u001b[0m \u001b[0msearch\u001b[0m\u001b[1;33m.\u001b[0m\u001b[0mPhraseQuery\u001b[0m\u001b[1;33m(\u001b[0m\u001b[1;33m)\u001b[0m\u001b[1;33m\u001b[0m\u001b[1;33m\u001b[0m\u001b[0m\n\u001b[0m\u001b[0;32m      5\u001b[0m \u001b[0mq2\u001b[0m\u001b[1;33m.\u001b[0m\u001b[0madd\u001b[0m\u001b[1;33m(\u001b[0m\u001b[0mindex\u001b[0m\u001b[1;33m.\u001b[0m\u001b[0mTerm\u001b[0m\u001b[1;33m(\u001b[0m\u001b[1;34m'text'\u001b[0m\u001b[1;33m,\u001b[0m \u001b[1;34m'search'\u001b[0m\u001b[1;33m)\u001b[0m\u001b[1;33m)\u001b[0m\u001b[1;33m\u001b[0m\u001b[1;33m\u001b[0m\u001b[0m\n\u001b[0;32m      6\u001b[0m \u001b[0mq2\u001b[0m\u001b[1;33m.\u001b[0m\u001b[0madd\u001b[0m\u001b[1;33m(\u001b[0m\u001b[0mindex\u001b[0m\u001b[1;33m.\u001b[0m\u001b[0mTerm\u001b[0m\u001b[1;33m(\u001b[0m\u001b[1;34m'text'\u001b[0m\u001b[1;33m,\u001b[0m \u001b[1;34m'engine'\u001b[0m\u001b[1;33m)\u001b[0m\u001b[1;33m)\u001b[0m\u001b[1;33m\u001b[0m\u001b[1;33m\u001b[0m\u001b[0m\n",
            "\u001b[1;31mInvalidArgsError\u001b[0m: (<class 'org.apache.lucene.search.PhraseQuery'>, '__init__', ())"
          ]
        }
      ]
    },
    {
      "cell_type": "markdown",
      "metadata": {
        "id": "TKLuOjE0e70R"
      },
      "source": [
        "# searching"
      ]
    },
    {
      "cell_type": "code",
      "metadata": {
        "id": "JwS6fTPle70R"
      },
      "source": [
        "from datetime import date\n",
        "import lucene\n",
        "from org.apache.lucene import search\n",
        "from lupyne import engine\n",
        "lucene.initVM()\n",
        "\n",
        "docs = [\n",
        "    {'city': 'San Francisco', 'state': 'CA', 'incorporated': '1850-04-15', 'population': 808976, 'longitude': -122.4192, 'latitude': 37.7752},\n",
        "    {'city': 'Los Angeles', 'state': 'CA', 'incorporated': '1850-04-04', 'population': 3849378, 'longitude': -118.2434, 'latitude': 34.0521},\n",
        "    {'city': 'Portland', 'state': 'OR', 'incorporated': '1851-02-08', 'population': 575930, 'longitude': -122.6703, 'latitude': 45.5238},\n",
        "]"
      ],
      "execution_count": null,
      "outputs": []
    },
    {
      "cell_type": "code",
      "metadata": {
        "id": "FzPCZ_15e70T"
      },
      "source": [
        "indexer = engine.Indexer()\n",
        "# indexer.set('city', stored=True, indexed=False)\n",
        "# indexer.set('state', stored=True, indexed=False)\n",
        "indexer.set('city', stored=True)\n",
        "indexer.set('state', stored=True)\n",
        "# set method supports custom field types inheriting their default settings\n",
        "indexer.set('incorporated', engine.DateTimeField)\n",
        "indexer.set('year-month-day', engine.NestedField, sep='-')\n",
        "# indexer.set('population', engine.NumericField, type=int)\n",
        "# indexer.set('point', engine.PointField, precision=10)\n",
        "indexer.set('population', stored=True)\n",
        "indexer.set('point', stored=True)\n",
        "# assigned fields can have a different key from their underlying field name\n",
        "indexer.fields['location'] = engine.NestedField('state.city')"
      ],
      "execution_count": null,
      "outputs": []
    },
    {
      "cell_type": "code",
      "metadata": {
        "id": "P_Ps39Dee70V"
      },
      "source": [
        "for doc in docs:\n",
        "    point = doc.pop('longitude'), doc.pop('latitude')\n",
        "    location = doc['state'] + '.' + doc['city']\n",
        "    incorporated = map(int, doc.pop('incorporated').split('-'))\n",
        "#     indexer.add(doc, location=location, incorporated=date(*incorporated), point=[point])\n",
        "    indexer.add(doc, location=location, incorporated=date(*incorporated), point=[*point])\n",
        "indexer.commit()"
      ],
      "execution_count": null,
      "outputs": []
    },
    {
      "cell_type": "code",
      "metadata": {
        "id": "E83vfrjje70W"
      },
      "source": [
        "query = indexer.fields['incorporated'].prefix([1850])"
      ],
      "execution_count": null,
      "outputs": []
    },
    {
      "cell_type": "code",
      "metadata": {
        "id": "93LdNsVIe70Z"
      },
      "source": [
        "# assert query.max.doubleValue() - query.min.doubleValue() == 60 * 60 * 24 * 365"
      ],
      "execution_count": null,
      "outputs": []
    },
    {
      "cell_type": "code",
      "metadata": {
        "id": "sQ_x3HbFe70a",
        "outputId": "4ebf7864-94bc-4580-ea6b-936fdedc8d54"
      },
      "source": [
        "assert [hit['city'] for hit in indexer.search(query)] == ['San Francisco', 'Los Angeles']\n",
        "[hit['city'] for hit in indexer.search(query)]"
      ],
      "execution_count": null,
      "outputs": [
        {
          "output_type": "execute_result",
          "data": {
            "text/plain": [
              "['San Francisco', 'Los Angeles']"
            ]
          },
          "metadata": {
            "tags": []
          },
          "execution_count": 161
        }
      ]
    },
    {
      "cell_type": "code",
      "metadata": {
        "id": "eq9P4-Jwe70c"
      },
      "source": [
        "query = indexer.fields['incorporated'].range(date(1850, 4, 10), None)\n",
        "# assert query.max is None\n",
        "assert [hit['city'] for hit in indexer.search(query)] == ['San Francisco', 'Portland']"
      ],
      "execution_count": null,
      "outputs": []
    },
    {
      "cell_type": "code",
      "metadata": {
        "id": "lJykwuWDe70e",
        "outputId": "7024c09a-0d9d-4d31-b3a2-2382376ded1b"
      },
      "source": [
        "query = indexer.fields['year-month-day'].prefix('1850')\n",
        "assert str(query) == 'year:1850*'\n",
        "assert [hit['city'] for hit in indexer.search(query)] == ['San Francisco', 'Los Angeles']"
      ],
      "execution_count": null,
      "outputs": [
        {
          "output_type": "error",
          "ename": "AssertionError",
          "evalue": "",
          "traceback": [
            "\u001b[1;31m---------------------------------------------------------------------------\u001b[0m",
            "\u001b[1;31mAssertionError\u001b[0m                            Traceback (most recent call last)",
            "\u001b[1;32m<ipython-input-163-6f67c81b8cad>\u001b[0m in \u001b[0;36m<module>\u001b[1;34m\u001b[0m\n\u001b[0;32m      1\u001b[0m \u001b[0mquery\u001b[0m \u001b[1;33m=\u001b[0m \u001b[0mindexer\u001b[0m\u001b[1;33m.\u001b[0m\u001b[0mfields\u001b[0m\u001b[1;33m[\u001b[0m\u001b[1;34m'year-month-day'\u001b[0m\u001b[1;33m]\u001b[0m\u001b[1;33m.\u001b[0m\u001b[0mprefix\u001b[0m\u001b[1;33m(\u001b[0m\u001b[1;34m'1850'\u001b[0m\u001b[1;33m)\u001b[0m\u001b[1;33m\u001b[0m\u001b[1;33m\u001b[0m\u001b[0m\n\u001b[0;32m      2\u001b[0m \u001b[1;32massert\u001b[0m \u001b[0mstr\u001b[0m\u001b[1;33m(\u001b[0m\u001b[0mquery\u001b[0m\u001b[1;33m)\u001b[0m \u001b[1;33m==\u001b[0m \u001b[1;34m'year:1850*'\u001b[0m\u001b[1;33m\u001b[0m\u001b[1;33m\u001b[0m\u001b[0m\n\u001b[1;32m----> 3\u001b[1;33m \u001b[1;32massert\u001b[0m \u001b[1;33m[\u001b[0m\u001b[0mhit\u001b[0m\u001b[1;33m[\u001b[0m\u001b[1;34m'city'\u001b[0m\u001b[1;33m]\u001b[0m \u001b[1;32mfor\u001b[0m \u001b[0mhit\u001b[0m \u001b[1;32min\u001b[0m \u001b[0mindexer\u001b[0m\u001b[1;33m.\u001b[0m\u001b[0msearch\u001b[0m\u001b[1;33m(\u001b[0m\u001b[0mquery\u001b[0m\u001b[1;33m)\u001b[0m\u001b[1;33m]\u001b[0m \u001b[1;33m==\u001b[0m \u001b[1;33m[\u001b[0m\u001b[1;34m'San Francisco'\u001b[0m\u001b[1;33m,\u001b[0m \u001b[1;34m'Los Angeles'\u001b[0m\u001b[1;33m]\u001b[0m\u001b[1;33m\u001b[0m\u001b[1;33m\u001b[0m\u001b[0m\n\u001b[0m",
            "\u001b[1;31mAssertionError\u001b[0m: "
          ]
        }
      ]
    },
    {
      "cell_type": "code",
      "metadata": {
        "id": "m-cv69o7e70f",
        "outputId": "c1e1ca28-3d74-4431-ad15-b89120c056d6"
      },
      "source": [
        "query = indexer.fields['year-month-day'].range('1850-04-10', None)\n",
        "assert str(query) == 'year-month-day:[1850-04-10 TO *}'\n",
        "assert [hit['city'] for hit in indexer.search(query)] == ['San Francisco', 'Portland']"
      ],
      "execution_count": null,
      "outputs": [
        {
          "output_type": "error",
          "ename": "AssertionError",
          "evalue": "",
          "traceback": [
            "\u001b[1;31m---------------------------------------------------------------------------\u001b[0m",
            "\u001b[1;31mAssertionError\u001b[0m                            Traceback (most recent call last)",
            "\u001b[1;32m<ipython-input-166-b00c4e8021b8>\u001b[0m in \u001b[0;36m<module>\u001b[1;34m\u001b[0m\n\u001b[0;32m      1\u001b[0m \u001b[0mquery\u001b[0m \u001b[1;33m=\u001b[0m \u001b[0mindexer\u001b[0m\u001b[1;33m.\u001b[0m\u001b[0mfields\u001b[0m\u001b[1;33m[\u001b[0m\u001b[1;34m'year-month-day'\u001b[0m\u001b[1;33m]\u001b[0m\u001b[1;33m.\u001b[0m\u001b[0mrange\u001b[0m\u001b[1;33m(\u001b[0m\u001b[1;34m'1850-04-10'\u001b[0m\u001b[1;33m,\u001b[0m \u001b[1;32mNone\u001b[0m\u001b[1;33m)\u001b[0m\u001b[1;33m\u001b[0m\u001b[1;33m\u001b[0m\u001b[0m\n\u001b[0;32m      2\u001b[0m \u001b[1;32massert\u001b[0m \u001b[0mstr\u001b[0m\u001b[1;33m(\u001b[0m\u001b[0mquery\u001b[0m\u001b[1;33m)\u001b[0m \u001b[1;33m==\u001b[0m \u001b[1;34m'year-month-day:[1850-04-10 TO *}'\u001b[0m\u001b[1;33m\u001b[0m\u001b[1;33m\u001b[0m\u001b[0m\n\u001b[1;32m----> 3\u001b[1;33m \u001b[1;32massert\u001b[0m \u001b[1;33m[\u001b[0m\u001b[0mhit\u001b[0m\u001b[1;33m[\u001b[0m\u001b[1;34m'city'\u001b[0m\u001b[1;33m]\u001b[0m \u001b[1;32mfor\u001b[0m \u001b[0mhit\u001b[0m \u001b[1;32min\u001b[0m \u001b[0mindexer\u001b[0m\u001b[1;33m.\u001b[0m\u001b[0msearch\u001b[0m\u001b[1;33m(\u001b[0m\u001b[0mquery\u001b[0m\u001b[1;33m)\u001b[0m\u001b[1;33m]\u001b[0m \u001b[1;33m==\u001b[0m \u001b[1;33m[\u001b[0m\u001b[1;34m'San Francisco'\u001b[0m\u001b[1;33m,\u001b[0m \u001b[1;34m'Portland'\u001b[0m\u001b[1;33m]\u001b[0m\u001b[1;33m\u001b[0m\u001b[1;33m\u001b[0m\u001b[0m\n\u001b[0m",
            "\u001b[1;31mAssertionError\u001b[0m: "
          ]
        }
      ]
    },
    {
      "cell_type": "code",
      "metadata": {
        "id": "ehZbMtxQe70h",
        "outputId": "d77997af-283a-44a4-d801-435e1e7a3bcc"
      },
      "source": [
        "query = indexer.fields['population'].range(0, 1000000)\n",
        "assert str(query) == 'population:[0 TO 1000000}'\n",
        "assert [hit['city'] for hit in indexer.search(query)] == ['San Francisco', 'Portland']"
      ],
      "execution_count": null,
      "outputs": [
        {
          "output_type": "error",
          "ename": "AttributeError",
          "evalue": "'Field' object has no attribute 'range'",
          "traceback": [
            "\u001b[1;31m---------------------------------------------------------------------------\u001b[0m",
            "\u001b[1;31mAttributeError\u001b[0m                            Traceback (most recent call last)",
            "\u001b[1;32m<ipython-input-167-31b174d2d895>\u001b[0m in \u001b[0;36m<module>\u001b[1;34m\u001b[0m\n\u001b[1;32m----> 1\u001b[1;33m \u001b[0mquery\u001b[0m \u001b[1;33m=\u001b[0m \u001b[0mindexer\u001b[0m\u001b[1;33m.\u001b[0m\u001b[0mfields\u001b[0m\u001b[1;33m[\u001b[0m\u001b[1;34m'population'\u001b[0m\u001b[1;33m]\u001b[0m\u001b[1;33m.\u001b[0m\u001b[0mrange\u001b[0m\u001b[1;33m(\u001b[0m\u001b[1;36m0\u001b[0m\u001b[1;33m,\u001b[0m \u001b[1;36m1000000\u001b[0m\u001b[1;33m)\u001b[0m\u001b[1;33m\u001b[0m\u001b[1;33m\u001b[0m\u001b[0m\n\u001b[0m\u001b[0;32m      2\u001b[0m \u001b[1;32massert\u001b[0m \u001b[0mstr\u001b[0m\u001b[1;33m(\u001b[0m\u001b[0mquery\u001b[0m\u001b[1;33m)\u001b[0m \u001b[1;33m==\u001b[0m \u001b[1;34m'population:[0 TO 1000000}'\u001b[0m\u001b[1;33m\u001b[0m\u001b[1;33m\u001b[0m\u001b[0m\n\u001b[0;32m      3\u001b[0m \u001b[1;32massert\u001b[0m \u001b[1;33m[\u001b[0m\u001b[0mhit\u001b[0m\u001b[1;33m[\u001b[0m\u001b[1;34m'city'\u001b[0m\u001b[1;33m]\u001b[0m \u001b[1;32mfor\u001b[0m \u001b[0mhit\u001b[0m \u001b[1;32min\u001b[0m \u001b[0mindexer\u001b[0m\u001b[1;33m.\u001b[0m\u001b[0msearch\u001b[0m\u001b[1;33m(\u001b[0m\u001b[0mquery\u001b[0m\u001b[1;33m)\u001b[0m\u001b[1;33m]\u001b[0m \u001b[1;33m==\u001b[0m \u001b[1;33m[\u001b[0m\u001b[1;34m'San Francisco'\u001b[0m\u001b[1;33m,\u001b[0m \u001b[1;34m'Portland'\u001b[0m\u001b[1;33m]\u001b[0m\u001b[1;33m\u001b[0m\u001b[1;33m\u001b[0m\u001b[0m\n",
            "\u001b[1;31mAttributeError\u001b[0m: 'Field' object has no attribute 'range'"
          ]
        }
      ]
    },
    {
      "cell_type": "code",
      "metadata": {
        "id": "uKa6vONre70j",
        "outputId": "0efa3c3f-a7ca-44bf-fb05-1944d4d8e1ed"
      },
      "source": [
        "cities = ['San Francisco', 'Los Angeles', 'Portland']\n",
        "for index, distance in enumerate([1e3, 1e5, 2e5, 1e6]):\n",
        "    query = indexer.fields['point'].within(-122.4, 37.7, distance=distance)\n",
        "    assert isinstance(query, search.BooleanQuery) and len(query) <= 4\n",
        "    assert {hit['city'] for hit in indexer.search(query)} == set(cities[:index])"
      ],
      "execution_count": null,
      "outputs": [
        {
          "output_type": "error",
          "ename": "AttributeError",
          "evalue": "'Field' object has no attribute 'within'",
          "traceback": [
            "\u001b[1;31m---------------------------------------------------------------------------\u001b[0m",
            "\u001b[1;31mAttributeError\u001b[0m                            Traceback (most recent call last)",
            "\u001b[1;32m<ipython-input-168-a28b0a88040b>\u001b[0m in \u001b[0;36m<module>\u001b[1;34m\u001b[0m\n\u001b[0;32m      1\u001b[0m \u001b[0mcities\u001b[0m \u001b[1;33m=\u001b[0m \u001b[1;33m[\u001b[0m\u001b[1;34m'San Francisco'\u001b[0m\u001b[1;33m,\u001b[0m \u001b[1;34m'Los Angeles'\u001b[0m\u001b[1;33m,\u001b[0m \u001b[1;34m'Portland'\u001b[0m\u001b[1;33m]\u001b[0m\u001b[1;33m\u001b[0m\u001b[1;33m\u001b[0m\u001b[0m\n\u001b[0;32m      2\u001b[0m \u001b[1;32mfor\u001b[0m \u001b[0mindex\u001b[0m\u001b[1;33m,\u001b[0m \u001b[0mdistance\u001b[0m \u001b[1;32min\u001b[0m \u001b[0menumerate\u001b[0m\u001b[1;33m(\u001b[0m\u001b[1;33m[\u001b[0m\u001b[1;36m1e3\u001b[0m\u001b[1;33m,\u001b[0m \u001b[1;36m1e5\u001b[0m\u001b[1;33m,\u001b[0m \u001b[1;36m2e5\u001b[0m\u001b[1;33m,\u001b[0m \u001b[1;36m1e6\u001b[0m\u001b[1;33m]\u001b[0m\u001b[1;33m)\u001b[0m\u001b[1;33m:\u001b[0m\u001b[1;33m\u001b[0m\u001b[1;33m\u001b[0m\u001b[0m\n\u001b[1;32m----> 3\u001b[1;33m     \u001b[0mquery\u001b[0m \u001b[1;33m=\u001b[0m \u001b[0mindexer\u001b[0m\u001b[1;33m.\u001b[0m\u001b[0mfields\u001b[0m\u001b[1;33m[\u001b[0m\u001b[1;34m'point'\u001b[0m\u001b[1;33m]\u001b[0m\u001b[1;33m.\u001b[0m\u001b[0mwithin\u001b[0m\u001b[1;33m(\u001b[0m\u001b[1;33m-\u001b[0m\u001b[1;36m122.4\u001b[0m\u001b[1;33m,\u001b[0m \u001b[1;36m37.7\u001b[0m\u001b[1;33m,\u001b[0m \u001b[0mdistance\u001b[0m\u001b[1;33m=\u001b[0m\u001b[0mdistance\u001b[0m\u001b[1;33m)\u001b[0m\u001b[1;33m\u001b[0m\u001b[1;33m\u001b[0m\u001b[0m\n\u001b[0m\u001b[0;32m      4\u001b[0m     \u001b[1;32massert\u001b[0m \u001b[0misinstance\u001b[0m\u001b[1;33m(\u001b[0m\u001b[0mquery\u001b[0m\u001b[1;33m,\u001b[0m \u001b[0msearch\u001b[0m\u001b[1;33m.\u001b[0m\u001b[0mBooleanQuery\u001b[0m\u001b[1;33m)\u001b[0m \u001b[1;32mand\u001b[0m \u001b[0mlen\u001b[0m\u001b[1;33m(\u001b[0m\u001b[0mquery\u001b[0m\u001b[1;33m)\u001b[0m \u001b[1;33m<=\u001b[0m \u001b[1;36m4\u001b[0m\u001b[1;33m\u001b[0m\u001b[1;33m\u001b[0m\u001b[0m\n\u001b[0;32m      5\u001b[0m     \u001b[1;32massert\u001b[0m \u001b[1;33m{\u001b[0m\u001b[0mhit\u001b[0m\u001b[1;33m[\u001b[0m\u001b[1;34m'city'\u001b[0m\u001b[1;33m]\u001b[0m \u001b[1;32mfor\u001b[0m \u001b[0mhit\u001b[0m \u001b[1;32min\u001b[0m \u001b[0mindexer\u001b[0m\u001b[1;33m.\u001b[0m\u001b[0msearch\u001b[0m\u001b[1;33m(\u001b[0m\u001b[0mquery\u001b[0m\u001b[1;33m)\u001b[0m\u001b[1;33m}\u001b[0m \u001b[1;33m==\u001b[0m \u001b[0mset\u001b[0m\u001b[1;33m(\u001b[0m\u001b[0mcities\u001b[0m\u001b[1;33m[\u001b[0m\u001b[1;33m:\u001b[0m\u001b[0mindex\u001b[0m\u001b[1;33m]\u001b[0m\u001b[1;33m)\u001b[0m\u001b[1;33m\u001b[0m\u001b[1;33m\u001b[0m\u001b[0m\n",
            "\u001b[1;31mAttributeError\u001b[0m: 'Field' object has no attribute 'within'"
          ]
        }
      ]
    },
    {
      "cell_type": "code",
      "metadata": {
        "id": "Q7Pjrjpwe70l"
      },
      "source": [
        "query = indexer.fields['location'].prefix('CA.San')\n",
        "# works like any prefix query\n",
        "assert str(query) == 'state.city:CA.San*'\n",
        "assert [hit['city'] for hit in indexer.search(query)] == ['San Francisco']\n",
        "query = indexer.fields['location'].prefix('CA')\n",
        "# optimized to search the best field\n",
        "assert str(query) == 'state:CA*'\n",
        "assert [hit['city'] for hit in indexer.search(query)] == ['San Francisco', 'Los Angeles']"
      ],
      "execution_count": null,
      "outputs": []
    },
    {
      "cell_type": "code",
      "metadata": {
        "id": "Su-hoNdee70m"
      },
      "source": [
        ""
      ],
      "execution_count": null,
      "outputs": []
    }
  ]
}